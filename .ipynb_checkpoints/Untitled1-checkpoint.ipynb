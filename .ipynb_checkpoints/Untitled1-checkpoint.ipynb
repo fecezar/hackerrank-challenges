{
 "cells": [
  {
   "cell_type": "markdown",
   "metadata": {},
   "source": [
    "# "
   ]
  },
  {
   "cell_type": "markdown",
   "metadata": {},
   "source": [
    "https://www.hackerrank.com/challenges/sherlock-and-anagrams/problem?h_l=interview&playlist_slugs%5B%5D=interview-preparation-kit&playlist_slugs%5B%5D=dictionaries-hashmaps"
   ]
  },
  {
   "cell_type": "code",
   "execution_count": 1,
   "metadata": {
    "ExecuteTime": {
     "end_time": "2021-01-25T17:18:42.082585Z",
     "start_time": "2021-01-25T17:18:42.067251Z"
    }
   },
   "outputs": [],
   "source": [
    "import math\n",
    "import os\n",
    "import random\n",
    "import re\n",
    "import sys"
   ]
  },
  {
   "cell_type": "code",
   "execution_count": 291,
   "metadata": {
    "ExecuteTime": {
     "end_time": "2021-01-26T17:43:26.546299Z",
     "start_time": "2021-01-26T17:43:26.516299Z"
    }
   },
   "outputs": [],
   "source": [
    "s = 'kkkk'\n",
    "s = 'iifailu'"
   ]
  },
  {
   "cell_type": "code",
   "execution_count": 292,
   "metadata": {
    "ExecuteTime": {
     "end_time": "2021-01-26T17:43:26.688162Z",
     "start_time": "2021-01-26T17:43:26.662122Z"
    }
   },
   "outputs": [
    {
     "data": {
      "text/plain": [
       "5"
      ]
     },
     "execution_count": 292,
     "metadata": {},
     "output_type": "execute_result"
    }
   ],
   "source": [
    "def substring_processer(s): \n",
    "    # lists  all possible substrings of s\n",
    "    substrings = []\n",
    "    len_str = len(s)\n",
    "    for i in range(len_str): # i = start position\n",
    "        for j in range(i, len_str): #j = end position\n",
    "            \n",
    "            sub = ''.join(sorted(s[i:j+1])) # sorts the substring \n",
    "            substrings.append(sub)\n",
    "    substrings.sort() # sorts the list\n",
    "    return substrings\n",
    "    \n",
    "def sherlockAndAnagrams(s):\n",
    "    substrings_2 = substring_processer(s)\n",
    "    counter = 0\n",
    "    for i in range(len(substrings_2)):\n",
    "        for j in range(i+1, len(substrings_2)):\n",
    "            value = int(substrings_2[i] == substrings_2[j])\n",
    "            if value:\n",
    "                counter += value\n",
    "            else:\n",
    "                break\n",
    "    return counter\n",
    "        \n",
    "sherlockAndAnagrams(s)"
   ]
  },
  {
   "cell_type": "markdown",
   "metadata": {},
   "source": [
    "# "
   ]
  },
  {
   "cell_type": "markdown",
   "metadata": {},
   "source": [
    "https://www.hackerrank.com/challenges/count-triplets-1/problem?h_l=interview&playlist_slugs%5B%5D=interview-preparation-kit&playlist_slugs%5B%5D=dictionaries-hashmaps"
   ]
  },
  {
   "cell_type": "markdown",
   "metadata": {},
   "source": [
    "6 3\n",
    "\n",
    "1 3 9 9 27 81\n",
    "\n",
    "\n",
    "100 1\n",
    "\n",
    "1 1 1 1 1 1 1 1 1 1 1 1 1 1 1 1 1 1 1 1 1 1 1 1 1 1 1 1 1 1 1 1 1 1 1 1 1 1 1 1 1 1 1 1 1 1 1 1 1 1 1 1 1 1 1 1 1 1 1 1 1 1 1 1 1 1 1 1 1 1 1 1 1 1 1 1 1 1 1 1 1 1 1 1 1 1 1 1 1 1 1 1 1 1 1 1 1 1 1 1"
   ]
  },
  {
   "cell_type": "code",
   "execution_count": 17,
   "metadata": {
    "ExecuteTime": {
     "end_time": "2021-01-28T16:02:41.403258Z",
     "start_time": "2021-01-28T16:02:37.881910Z"
    }
   },
   "outputs": [
    {
     "name": "stdout",
     "output_type": "stream",
     "text": [
      "1 1\n",
      "1 1 1 1 1 1 1 1 1 1 1 1 1 1 1 1 1 1 1 1 1 1 1 1 1 1 1 1 1 1 1 1 1 1 1 1 1 1 1 1 1 1 1 1 1 1 1 1 1 1 1 1 1 1 1 1 1 1 1 1 1 1 1 1 1 1 1 1 1 1 1 1 1 1 1 1 1 1 1 1 1 1 1 1 1 1 1 1 1 1 1 1 1 1 1 1 1 1 1 1\n"
     ]
    }
   ],
   "source": [
    "l, r = [int(x) for x in str(input()).split(' ')]\n",
    "arr = [int(x) for x in str(input()).split(' ')]\n"
   ]
  },
  {
   "cell_type": "code",
   "execution_count": 40,
   "metadata": {
    "ExecuteTime": {
     "end_time": "2021-01-28T16:42:35.725811Z",
     "start_time": "2021-01-28T16:42:35.710664Z"
    }
   },
   "outputs": [
    {
     "data": {
      "text/plain": [
       "161700"
      ]
     },
     "execution_count": 40,
     "metadata": {},
     "output_type": "execute_result"
    }
   ],
   "source": [
    "import math\n",
    "\n",
    "def countTriplets(arr, r):\n",
    "   \n",
    "    combinations = 0\n",
    "    d_count = {}\n",
    "    d_count_above = {}\n",
    "\n",
    "    for i in reversed(arr):\n",
    "\n",
    "        if i*r in d_count_above:\n",
    "            combinations += d_count_above[i*r]\n",
    "            \n",
    "        if i*r in d_count:\n",
    "            d_count_above[i] =  d_count_above.get(i, 0) +  d_count[i*r]\n",
    "        \n",
    "        d_count[i] = d_count.get(i, 0) + 1\n",
    "\n",
    "            \n",
    "    return combinations\n",
    "\n",
    "    \n",
    "\n",
    "countTriplets(arr, r)"
   ]
  },
  {
   "cell_type": "markdown",
   "metadata": {},
   "source": [
    "https://www.hackerrank.com/challenges/ctci-bubble-sort/problem?h_l=interview&playlist_slugs%5B%5D=interview-preparation-kit&playlist_slugs%5B%5D=sorting"
   ]
  },
  {
   "cell_type": "code",
   "execution_count": 59,
   "metadata": {
    "ExecuteTime": {
     "end_time": "2021-01-28T17:34:30.864343Z",
     "start_time": "2021-01-28T17:34:30.848564Z"
    }
   },
   "outputs": [
    {
     "name": "stdout",
     "output_type": "stream",
     "text": [
      "Array is sorted in 7 swaps.\n",
      "First Element: 1\n",
      "Last Element: 5\n"
     ]
    }
   ],
   "source": [
    "def countSwaps(a):\n",
    "    \n",
    "    swaps = 0\n",
    "    while True:\n",
    "        break_out = False\n",
    "        for i in range(len(a)-1):\n",
    "            if a[i] > a[i+1]:\n",
    "                swaps +=1\n",
    "                a[i], a[i+1] = a[i+1], a[i]\n",
    "                break_out = True\n",
    "        if not break_out:\n",
    "            break\n",
    "\n",
    "\n",
    "    \n",
    "    print('Array is sorted in {} swaps.'.format(swaps))\n",
    "    print('First Element:', a[0])\n",
    "    print('Last Element:', a[-1])\n",
    "\n",
    "countSwaps([5,3,2,1,4])"
   ]
  },
  {
   "cell_type": "markdown",
   "metadata": {},
   "source": [
    "https://www.hackerrank.com/challenges/mark-and-toys/problem?h_l=interview&playlist_slugs%5B%5D=interview-preparation-kit&playlist_slugs%5B%5D=sorting&h_r=next-challenge&h_v=zen"
   ]
  },
  {
   "cell_type": "code",
   "execution_count": 12,
   "metadata": {
    "ExecuteTime": {
     "end_time": "2021-02-01T10:23:53.456796Z",
     "start_time": "2021-02-01T10:23:43.351522Z"
    }
   },
   "outputs": [
    {
     "name": "stdout",
     "output_type": "stream",
     "text": [
      "7 50\n",
      "7 50\n",
      "1 12 5 111 200 1000 10\n",
      "[1, 12, 5, 111, 200, 1000, 10]\n"
     ]
    }
   ],
   "source": [
    "n, k = [int(i) for i in input().split(' ')]\n",
    "print(n, k)\n",
    "prices = [int(p) for p in input().split(' ')]\n",
    "print(prices)"
   ]
  },
  {
   "cell_type": "code",
   "execution_count": 16,
   "metadata": {
    "ExecuteTime": {
     "end_time": "2021-02-01T10:33:51.473571Z",
     "start_time": "2021-02-01T10:33:51.450569Z"
    }
   },
   "outputs": [
    {
     "data": {
      "text/plain": [
       "4"
      ]
     },
     "execution_count": 16,
     "metadata": {},
     "output_type": "execute_result"
    }
   ],
   "source": [
    "def maximumToys(prices, k):\n",
    "    prices.sort()\n",
    "#     print(prices)\n",
    "    toys = 0\n",
    "    for p in prices:\n",
    "        if k >= p:\n",
    "#             print(k)\n",
    "            k -= p\n",
    "            toys +=1\n",
    "            \n",
    "#             print(toys)\n",
    "        else:\n",
    "            break\n",
    "    return toys\n",
    "\n",
    "        \n",
    "\n",
    "maximumToys(prices, k)    "
   ]
  },
  {
   "cell_type": "markdown",
   "metadata": {},
   "source": [
    "https://www.hackerrank.com/challenges/ctci-comparator-sorting/problem?h_l=interview&playlist_slugs%5B%5D=interview-preparation-kit&playlist_slugs%5B%5D=sorting&h_r=next-challenge&h_v=zen&h_r=next-challenge&h_v=zen"
   ]
  },
  {
   "cell_type": "code",
   "execution_count": 62,
   "metadata": {
    "ExecuteTime": {
     "end_time": "2021-02-01T12:11:46.817255Z",
     "start_time": "2021-02-01T12:11:46.793799Z"
    }
   },
   "outputs": [],
   "source": [
    "from functools import cmp_to_key\n",
    "class Player:\n",
    "    def __init__(self, name, score):\n",
    "        self.name = str(name)\n",
    "        self.score = int(score)\n",
    "        \n",
    "    def __repr__(self):\n",
    "#         pass\n",
    "        return f'Player({self.name}, {self.score})'\n",
    "        \n",
    "    def comparator(a, b):\n",
    "        if a.score>b.score:\n",
    "            return -1\n",
    "        elif a.score<b.score:\n",
    "            return 1\n",
    "        elif a.score == b.score:\n",
    "            if a.name<=b.name:\n",
    "                return -1\n",
    "            else:\n",
    "                return 1\n"
   ]
  },
  {
   "cell_type": "code",
   "execution_count": 25,
   "metadata": {
    "ExecuteTime": {
     "end_time": "2021-02-01T11:58:25.773049Z",
     "start_time": "2021-02-01T11:58:05.742782Z"
    }
   },
   "outputs": [
    {
     "name": "stdout",
     "output_type": "stream",
     "text": [
      "5\n",
      "amy 100\n",
      "david 100\n",
      "heraldo 50\n",
      "aakansha 75\n",
      "aleksa 150\n",
      "amy 100\n",
      "david 100\n",
      "heraldo 50\n",
      "aakansha 75\n",
      "aleksa 150\n"
     ]
    }
   ],
   "source": [
    "n = int(input())\n",
    "data = []\n",
    "for i in range(n):\n",
    "    name, score = input().split()\n",
    "    score = int(score)\n",
    "    player = Player(name, score)\n",
    "    data.append(player)\n",
    "    \n",
    "data = sorted(data, key=cmp_to_key(Player.comparator))\n",
    "for i in data:\n",
    "    print(i.name, i.score)"
   ]
  },
  {
   "cell_type": "markdown",
   "metadata": {},
   "source": [
    "https://www.hackerrank.com/challenges/fraudulent-activity-notifications/problem?h_l=interview&playlist_slugs%5B%5D=interview-preparation-kit&playlist_slugs%5B%5D=sorting&h_r=next-challenge&h_v=zen&h_r=next-challenge&h_v=zen&h_r=next-challenge&h_v=zen"
   ]
  },
  {
   "cell_type": "markdown",
   "metadata": {},
   "source": [
    "- tip:\n",
    "https://www.youtube.com/watch?v=7zuGmKfUt7s"
   ]
  },
  {
   "cell_type": "code",
   "execution_count": 102,
   "metadata": {
    "ExecuteTime": {
     "end_time": "2021-02-01T13:24:09.040335Z",
     "start_time": "2021-02-01T13:24:09.026649Z"
    }
   },
   "outputs": [
    {
     "name": "stdout",
     "output_type": "stream",
     "text": [
      "9 5\n",
      "[2, 3, 4, 2, 3, 6, 8, 4, 5]\n"
     ]
    }
   ],
   "source": [
    "n, d = [int(i) for i in input().split(' ')]\n",
    "print(n, d)\n",
    "expenditure = [int(p) for p in input().split(' ')]\n",
    "print(expenditure)"
   ]
  },
  {
   "cell_type": "code",
   "execution_count": 116,
   "metadata": {
    "ExecuteTime": {
     "end_time": "2021-02-01T13:45:53.445700Z",
     "start_time": "2021-02-01T13:45:53.417027Z"
    }
   },
   "outputs": [],
   "source": [
    "def median_(arr):\n",
    "    arr.sort()\n",
    "    lenght = len(arr)\n",
    "    ref = arr[lenght // 2]\n",
    "    ref_1_minus = arr[(lenght // 2)-1]\n",
    "    if lenght % 2 !=0:\n",
    "        return ref\n",
    "    else:\n",
    "        return (ref - ref_1_minus)/2 + ref_1_minus\n",
    "\n",
    "def activityNotifications(expenditure, d):\n",
    "    print('expenditure', expenditure)\n",
    "    count = 0\n",
    "    print('d', d)\n",
    "    print('**********')\n",
    "    for i in range(d, len(expenditure)):\n",
    "        print('****')\n",
    "        print('i', i)\n",
    "        print('item', expenditure[i])\n",
    "        arr = expenditure[i-d:i]\n",
    "        print('arr', arr)\n",
    "        median = median_(arr)\n",
    "        print('median', median)\n",
    "        \n",
    "        \n",
    "        if expenditure[i] >= 2*median:\n",
    "            count +=1\n",
    "        print('count', count)\n",
    "    return count\n",
    "        \n",
    "    "
   ]
  },
  {
   "cell_type": "code",
   "execution_count": 121,
   "metadata": {
    "ExecuteTime": {
     "end_time": "2021-02-01T13:46:30.342554Z",
     "start_time": "2021-02-01T13:46:30.317781Z"
    }
   },
   "outputs": [],
   "source": [
    "def median():\n",
    "    \n",
    "\n",
    "def activityNotifications(expenditure, d):\n",
    "    arr = []\n",
    "    count=0\n",
    "    for item in expenditure:\n",
    "        if len(arr) < d:\n",
    "            arr.append(item)\n",
    "            continue\n",
    "        else:\n",
    "            median = median_(arr)\n",
    "            arr.append(item)\n",
    "            del arr[0]\n",
    "            if item >= 2*median:\n",
    "                count +=1\n",
    "    return count\n",
    "\n",
    "            \n",
    "        \n",
    "        "
   ]
  },
  {
   "cell_type": "code",
   "execution_count": 122,
   "metadata": {
    "ExecuteTime": {
     "end_time": "2021-02-01T13:46:30.590839Z",
     "start_time": "2021-02-01T13:46:30.582675Z"
    }
   },
   "outputs": [
    {
     "data": {
      "text/plain": [
       "3"
      ]
     },
     "execution_count": 122,
     "metadata": {},
     "output_type": "execute_result"
    }
   ],
   "source": [
    "activityNotifications(expenditure, d)"
   ]
  },
  {
   "cell_type": "code",
   "execution_count": null,
   "metadata": {},
   "outputs": [],
   "source": []
  }
 ],
 "metadata": {
  "kernelspec": {
   "display_name": "Python [conda env:learn-env] *",
   "language": "python",
   "name": "conda-env-learn-env-py"
  },
  "language_info": {
   "codemirror_mode": {
    "name": "ipython",
    "version": 3
   },
   "file_extension": ".py",
   "mimetype": "text/x-python",
   "name": "python",
   "nbconvert_exporter": "python",
   "pygments_lexer": "ipython3",
   "version": "3.6.9"
  },
  "toc": {
   "base_numbering": 1,
   "nav_menu": {},
   "number_sections": true,
   "sideBar": true,
   "skip_h1_title": false,
   "title_cell": "Table of Contents",
   "title_sidebar": "Contents",
   "toc_cell": false,
   "toc_position": {},
   "toc_section_display": true,
   "toc_window_display": false
  },
  "varInspector": {
   "cols": {
    "lenName": 16,
    "lenType": 16,
    "lenVar": 40
   },
   "kernels_config": {
    "python": {
     "delete_cmd_postfix": "",
     "delete_cmd_prefix": "del ",
     "library": "var_list.py",
     "varRefreshCmd": "print(var_dic_list())"
    },
    "r": {
     "delete_cmd_postfix": ") ",
     "delete_cmd_prefix": "rm(",
     "library": "var_list.r",
     "varRefreshCmd": "cat(var_dic_list()) "
    }
   },
   "types_to_exclude": [
    "module",
    "function",
    "builtin_function_or_method",
    "instance",
    "_Feature"
   ],
   "window_display": false
  }
 },
 "nbformat": 4,
 "nbformat_minor": 2
}
